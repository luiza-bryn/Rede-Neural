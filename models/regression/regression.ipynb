{
 "cells": [
  {
   "cell_type": "markdown",
   "id": "a06163ed",
   "metadata": {},
   "source": [
    "#### Bibliotecas"
   ]
  },
  {
   "cell_type": "code",
   "execution_count": 2,
   "id": "7363b3d4",
   "metadata": {},
   "outputs": [],
   "source": [
    "import sys\n",
    "import os\n",
    "sys.path.append(os.path.abspath(os.path.join(os.getcwd(), '..', '..')))"
   ]
  },
  {
   "cell_type": "code",
   "execution_count": 3,
   "id": "3021eb99",
   "metadata": {},
   "outputs": [],
   "source": [
    "import pandas as pd\n",
    "from sklearn.preprocessing import StandardScaler\n",
    "from sklearn.model_selection import train_test_split\n",
    "import matplotlib.pyplot as plt\n",
    "from sklearn.metrics import mean_squared_error, mean_absolute_error, r2_score, accuracy_score\n",
    "import numpy as np\n",
    "from neural_network_lib.neural_network import NeuralNetwork"
   ]
  },
  {
   "cell_type": "markdown",
   "id": "d421fe43",
   "metadata": {},
   "source": [
    "#### Tratamento dos dados"
   ]
  },
  {
   "cell_type": "code",
   "execution_count": 4,
   "id": "cae7df6b",
   "metadata": {},
   "outputs": [
    {
     "name": "stdout",
     "output_type": "stream",
     "text": [
      "   Number        Name Type_1  Type_2  Total  HP  Attack  Defense  Sp_Atk  \\\n",
      "0       1   Bulbasaur  Grass  Poison    318  45      49       49      65   \n",
      "1       2     Ivysaur  Grass  Poison    405  60      62       63      80   \n",
      "2       3    Venusaur  Grass  Poison    525  80      82       83     100   \n",
      "3       4  Charmander   Fire     NaN    309  39      52       43      60   \n",
      "4       5  Charmeleon   Fire     NaN    405  58      64       58      80   \n",
      "\n",
      "   Sp_Def  ...  Color  hasGender  Pr_Male Egg_Group_1  Egg_Group_2  \\\n",
      "0      65  ...  Green       True    0.875     Monster        Grass   \n",
      "1      80  ...  Green       True    0.875     Monster        Grass   \n",
      "2     100  ...  Green       True    0.875     Monster        Grass   \n",
      "3      50  ...    Red       True    0.875     Monster       Dragon   \n",
      "4      65  ...    Red       True    0.875     Monster       Dragon   \n",
      "\n",
      "   hasMegaEvolution Height_m Weight_kg  Catch_Rate      Body_Style  \n",
      "0             False     0.71       6.9          45       quadruped  \n",
      "1             False     0.99      13.0          45       quadruped  \n",
      "2              True     2.01     100.0          45       quadruped  \n",
      "3             False     0.61       8.5          45  bipedal_tailed  \n",
      "4             False     1.09      19.0          45  bipedal_tailed  \n",
      "\n",
      "[5 rows x 23 columns]\n"
     ]
    }
   ],
   "source": [
    "# Carregar CSV\n",
    "df_pokemon = pd.read_csv('../../datasets/pokemon/pokemon_alopez247.csv')\n",
    "\n",
    "# Verificar carregamento do arquivo\n",
    "print(df_pokemon.head())"
   ]
  },
  {
   "cell_type": "code",
   "execution_count": 5,
   "id": "25e7bcc6",
   "metadata": {},
   "outputs": [
    {
     "name": "stdout",
     "output_type": "stream",
     "text": [
      "Index(['Number', 'Name', 'Type_1', 'Type_2', 'Total', 'HP', 'Attack',\n",
      "       'Defense', 'Sp_Atk', 'Sp_Def', 'Speed', 'Generation', 'isLegendary',\n",
      "       'Color', 'hasGender', 'Pr_Male', 'Egg_Group_1', 'Egg_Group_2',\n",
      "       'hasMegaEvolution', 'Height_m', 'Weight_kg', 'Catch_Rate',\n",
      "       'Body_Style'],\n",
      "      dtype='object')\n"
     ]
    }
   ],
   "source": [
    "# Mostrar a colunas do dataframe\n",
    "print(df_pokemon.columns)"
   ]
  },
  {
   "cell_type": "code",
   "execution_count": 46,
   "id": "682bd82c",
   "metadata": {},
   "outputs": [],
   "source": [
    "# Remover colunas irrelevantes\n",
    "df = df_pokemon.drop(columns=[ 'Name', 'Total', 'Color', 'Body_Style', 'Pr_Male', 'Catch_Rate', 'Type_1', 'Defense', 'Egg_Group_1', 'Egg_Group_2', 'Sp_Atk', 'Sp_Def', 'isLegendary', 'hasGender', 'hasMegaEvolution' ])\n",
    "\n",
    "#Preencher valores nulos em Type_2\n",
    "df['Type_2'] = df['Type_2'].fillna('None')\n",
    "\n",
    "# Separar as caracteristicas e a variável altura\n",
    "height = df['Height_m'].values.reshape(-1, 1)\n",
    "weight = df['Weight_kg']\n",
    "features = df.drop(columns=['Height_m'])"
   ]
  },
  {
   "cell_type": "code",
   "execution_count": 47,
   "id": "501d0bc9",
   "metadata": {},
   "outputs": [
    {
     "name": "stdout",
     "output_type": "stream",
     "text": [
      "Index(['Number', 'Type_2', 'HP', 'Attack', 'Speed', 'Generation', 'Weight_kg'], dtype='object')\n"
     ]
    }
   ],
   "source": [
    "# Mostrar a colunas do dataframe após ajustes\n",
    "print(features.columns)"
   ]
  },
  {
   "cell_type": "code",
   "execution_count": 48,
   "id": "e0f4ea94",
   "metadata": {},
   "outputs": [],
   "source": [
    "# Transformar as variaveis categoricas\n",
    "features_encoded = pd.get_dummies(features, columns=[ 'Type_2', 'Generation'], drop_first=True)"
   ]
  },
  {
   "cell_type": "code",
   "execution_count": 49,
   "id": "f54f2705",
   "metadata": {},
   "outputs": [],
   "source": [
    "# Normalizar dados numericos\n",
    "scaler = StandardScaler()\n",
    "features_scaled = scaler.fit_transform(features_encoded)"
   ]
  },
  {
   "cell_type": "code",
   "execution_count": 50,
   "id": "4d29bb5b",
   "metadata": {},
   "outputs": [],
   "source": [
    "# Normalizar a variável de saída (height)\n",
    "target_scaler = StandardScaler()\n",
    "height_scaled = target_scaler.fit_transform(height).flatten()"
   ]
  },
  {
   "cell_type": "code",
   "execution_count": 51,
   "id": "89a490e3",
   "metadata": {},
   "outputs": [],
   "source": [
    "# Transformação logarítmica\n",
    "height_log = np.log1p(df['Height_m'].values.reshape(-1, 1))\n",
    "\n",
    "# Normalizar a variavel de saída logaritma\n",
    "height_scaled_log = target_scaler.fit_transform(height_log).flatten()"
   ]
  },
  {
   "cell_type": "code",
   "execution_count": 112,
   "id": "48fb621c",
   "metadata": {},
   "outputs": [
    {
     "data": {
      "image/png": "[encoded data removed]",
      "text/plain": [
       "<Figure size 800x500 with 1 Axes>"
      ]
     },
     "metadata": {},
     "output_type": "display_data"
    }
   ],
   "source": [
    "# Histograma da altura log\n",
    "plt.figure(figsize=(8,5))\n",
    "plt.hist(height_scaled_log, bins=30, color='skyblue', edgecolor='black')\n",
    "plt.title('Distribuição das alturas dos Pokémons escala logarítmica (Height_m)')\n",
    "plt.xlabel('Altura (metro)')\n",
    "plt.ylabel('Quantidade de Pokémons')\n",
    "plt.show()"
   ]
  },
  {
   "cell_type": "code",
   "execution_count": 53,
   "id": "115da3cf",
   "metadata": {},
   "outputs": [
    {
     "data": {
      "image/png": "[encoded data removed]",
      "text/plain": [
       "<Figure size 800x500 with 1 Axes>"
      ]
     },
     "metadata": {},
     "output_type": "display_data"
    }
   ],
   "source": [
    "# Histograma da altura\n",
    "plt.figure(figsize=(8,5))\n",
    "plt.hist(height_scaled, bins=30, color='skyblue', edgecolor='black')\n",
    "plt.title('Distribuição das alturas dos Pokémons (Height_m)')\n",
    "plt.xlabel('Altura (metro)')\n",
    "plt.ylabel('Quantidade de Pokémons')\n",
    "plt.show()"
   ]
  },
  {
   "cell_type": "code",
   "execution_count": 54,
   "id": "5881eec8",
   "metadata": {},
   "outputs": [
    {
     "data": {
      "image/png": "[encoded data removed]",
      "text/plain": [
       "<Figure size 800x500 with 1 Axes>"
      ]
     },
     "metadata": {},
     "output_type": "display_data"
    }
   ],
   "source": [
    "# Histograma do peso\n",
    "plt.figure(figsize=(8,5))\n",
    "plt.hist(weight, bins=30, color='skyblue', edgecolor='black')\n",
    "plt.title('Distribuição dos pesos dos Pokémons (Weight_kg)')\n",
    "plt.xlabel('Peso (kg)')\n",
    "plt.ylabel('Quantidade de Pokémons')\n",
    "plt.show()"
   ]
  },
  {
   "cell_type": "code",
   "execution_count": 55,
   "id": "ebe44ff4",
   "metadata": {},
   "outputs": [
    {
     "name": "stdout",
     "output_type": "stream",
     "text": [
      "Faixas sugeridas (quartis): [-1.81553276 -0.66608454 -0.02666931  0.53861628  6.16742339]\n"
     ]
    }
   ],
   "source": [
    "#Criar bins baseados nos quartis\n",
    "quartis = np.quantile(height_scaled_log, [0, 0.25, 0.5, 0.75, 1])\n",
    "\n",
    "print (\"Faixas sugeridas (quartis):\", quartis)"
   ]
  },
  {
   "cell_type": "code",
   "execution_count": 56,
   "id": "2e68c2c7",
   "metadata": {},
   "outputs": [
    {
     "name": "stdout",
     "output_type": "stream",
     "text": [
      "0    238\n",
      "1    166\n",
      "2    137\n",
      "3    180\n",
      "Name: count, dtype: int64\n"
     ]
    }
   ],
   "source": [
    "# Criar bins com base nos quartis\n",
    "labels = [0,1,2,3]\n",
    "height_binned = pd.cut(height_scaled_log, bins=quartis, labels=labels, include_lowest=True)\n",
    "\n",
    "# Verificar balanceamento\n",
    "print(height_binned.value_counts())"
   ]
  },
  {
   "cell_type": "code",
   "execution_count": 66,
   "id": "3f548272",
   "metadata": {},
   "outputs": [],
   "source": [
    "# Realizar o split estratificado\n",
    "features_train, features_test, height_train, height_test = train_test_split(\n",
    "    features_scaled, height_scaled_log, test_size=0.2, random_state=42) # , stratify=height_binned\n",
    "\n",
    "# garantir que y tenha duas dimensões\n",
    "height_train = height_train.reshape(-1, 1)\n",
    "height_test = height_test.reshape(-1, 1)"
   ]
  },
  {
   "cell_type": "markdown",
   "id": "adfdf0fb",
   "metadata": {},
   "source": [
    "#### Biblioteca Criada"
   ]
  },
  {
   "cell_type": "code",
   "execution_count": 127,
   "id": "bd199965",
   "metadata": {},
   "outputs": [
    {
     "name": "stdout",
     "output_type": "stream",
     "text": [
      "0.001\n"
     ]
    }
   ],
   "source": [
    "nn = NeuralNetwork(hidden_layers=(128, 64, 32), hidden_activation=['tanh', 'tanh', 'tanh'],\n",
    "                     loss='mse', \n",
    "                     model_type='regression',\n",
    "                     learning_rate=0.001,\n",
    "                     max_iter=50000)"
   ]
  },
  {
   "cell_type": "code",
   "execution_count": 128,
   "id": "39d129c2",
   "metadata": {},
   "outputs": [
    {
     "name": "stdout",
     "output_type": "stream",
     "text": [
      "['tanh', 'tanh', 'tanh', 'identity']\n",
      "Epoch 0, Loss: 4.57259223782477\n",
      "Epoch 1000, Loss: 3.3929148877638524\n",
      "Epoch 2000, Loss: 2.6312034544499796\n",
      "Epoch 3000, Loss: 2.123780412429038\n",
      "Epoch 4000, Loss: 1.7751773063927527\n",
      "Epoch 5000, Loss: 1.5282268376341286\n",
      "Epoch 6000, Loss: 1.3479053948041697\n",
      "Epoch 7000, Loss: 1.2123082739595556\n",
      "Epoch 8000, Loss: 1.1074667868981138\n",
      "Epoch 9000, Loss: 1.0243023006315617\n",
      "Epoch 10000, Loss: 0.9568008346045117\n",
      "Epoch 11000, Loss: 0.9009002840965012\n",
      "Epoch 12000, Loss: 0.8538015029034454\n",
      "Epoch 13000, Loss: 0.8135355922494394\n",
      "Epoch 14000, Loss: 0.7786883154287892\n",
      "Epoch 15000, Loss: 0.7482221728011612\n",
      "Epoch 16000, Loss: 0.7213599521822088\n",
      "Epoch 17000, Loss: 0.6975074553525253\n",
      "Epoch 18000, Loss: 0.6762014939833357\n",
      "Epoch 19000, Loss: 0.6570743826333462\n",
      "Epoch 20000, Loss: 0.6398293333460014\n",
      "Epoch 21000, Loss: 0.6242231434167079\n",
      "Epoch 22000, Loss: 0.6100538237921737\n",
      "Epoch 23000, Loss: 0.5971516175010031\n",
      "Epoch 24000, Loss: 0.5853723747786933\n",
      "Epoch 25000, Loss: 0.5745925885579146\n",
      "Epoch 26000, Loss: 0.5647056157711735\n",
      "Epoch 27000, Loss: 0.5556187573291638\n",
      "Epoch 28000, Loss: 0.5472509686188105\n",
      "Epoch 29000, Loss: 0.5395310395017905\n",
      "Epoch 30000, Loss: 0.5323961288002229\n",
      "Epoch 31000, Loss: 0.5257905701096075\n",
      "Epoch 32000, Loss: 0.5196648880654243\n",
      "Epoch 33000, Loss: 0.5139749799484069\n",
      "Epoch 34000, Loss: 0.5086814287763894\n",
      "Epoch 35000, Loss: 0.5037489221681303\n",
      "Epoch 36000, Loss: 0.49914575720857685\n",
      "Epoch 37000, Loss: 0.4948434159350639\n",
      "Epoch 38000, Loss: 0.4908161993422733\n",
      "Epoch 39000, Loss: 0.48704091027906177\n",
      "Epoch 40000, Loss: 0.48349657749986263\n",
      "Epoch 41000, Loss: 0.4801642145914104\n",
      "Epoch 42000, Loss: 0.4770266086325486\n",
      "Epoch 43000, Loss: 0.474068134340665\n",
      "Epoch 44000, Loss: 0.4712745901709378\n",
      "Epoch 45000, Loss: 0.4686330534069227\n",
      "Epoch 46000, Loss: 0.4661317517447061\n",
      "Epoch 47000, Loss: 0.46375994925170794\n",
      "Epoch 48000, Loss: 0.46150784489312535\n",
      "Epoch 49000, Loss: 0.4593664820776979\n"
     ]
    }
   ],
   "source": [
    "nn.fit(features_train, height_train)"
   ]
  },
  {
   "cell_type": "code",
   "execution_count": 129,
   "id": "dfa64bbc",
   "metadata": {},
   "outputs": [],
   "source": [
    "height_pred_original_nn = nn.predict(features_test)\n",
    "height_pred_original_nn = target_scaler.inverse_transform(height_pred_original_nn.reshape(-1, 1)).flatten()\n",
    "#height_pred_test_true = target_scaler.inverse_transform(height_test.reshape(-1, 1)).flatten()\n",
    "height_pred_test_true = np.expm1(height_pred_original_nn).flatten()"
   ]
  },
  {
   "cell_type": "code",
   "execution_count": 130,
   "id": "4d8d43fa",
   "metadata": {},
   "outputs": [
    {
     "name": "stdout",
     "output_type": "stream",
     "text": [
      "MSE: 0.2303\n",
      "MAE: 0.3566\n",
      "R² Score: 0.3059\n"
     ]
    }
   ],
   "source": [
    "mse = mean_squared_error(height_pred_test_true, height_pred_original_nn)\n",
    "mae = mean_absolute_error(height_pred_test_true, height_pred_original_nn)\n",
    "r2 = r2_score(height_pred_test_true, height_pred_original_nn)\n",
    "\n",
    "print(f\"MSE: {mse:.4f}\")\n",
    "print(f\"MAE: {mae:.4f}\")\n",
    "print(f\"R² Score: {r2:.4f}\")"
   ]
  },
  {
   "cell_type": "code",
   "execution_count": 131,
   "id": "3f5823ff",
   "metadata": {},
   "outputs": [
    {
     "name": "stdout",
     "output_type": "stream",
     "text": [
      "MAPE: 29.29%\n"
     ]
    }
   ],
   "source": [
    "def mean_absolute_percentage_error(y_true, y_pred):\n",
    "    y_true, y_pred = np.array(y_true), np.array(y_pred)\n",
    "    \n",
    "    # Evita divisão por zero\n",
    "    mask = y_true != 0\n",
    "    return np.mean(np.abs((y_true[mask] - y_pred[mask]) / y_true[mask])) * 100\n",
    "\n",
    "mape = mean_absolute_percentage_error(height_pred_test_true, height_pred_original_nn)\n",
    "print(f\"MAPE: {mape:.2f}%\")"
   ]
  }
 ],
 "metadata": {
  "kernelspec": {
   "display_name": "Python 3",
   "language": "python",
   "name": "python3"
  },
  "language_info": {
   "codemirror_mode": {
    "name": "ipython",
    "version": 3
   },
   "file_extension": ".py",
   "mimetype": "text/x-python",
   "name": "python",
   "nbconvert_exporter": "python",
   "pygments_lexer": "ipython3",
   "version": "3.13.5"
  }
 },
 "nbformat": 4,
 "nbformat_minor": 5
}
