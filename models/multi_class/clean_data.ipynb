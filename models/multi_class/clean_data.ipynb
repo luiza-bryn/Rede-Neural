{
 "cells": [
  {
   "cell_type": "code",
   "execution_count": 4,
   "id": "ee1f6931",
   "metadata": {},
   "outputs": [],
   "source": [
    "import pandas as pd\n"
   ]
  },
  {
   "cell_type": "markdown",
   "id": "8f44a337",
   "metadata": {},
   "source": [
    "A base original pode ser encontrada em: [Inertial data for dog behaviour classification](https://www.kaggle.com/datasets/benjamingray44/inertial-data-for-dog-behaviour-classification)\n",
    "###### Ela não esta presente no diretório */datasets* por motivos de tamanho"
   ]
  },
  {
   "cell_type": "code",
   "execution_count": 5,
   "id": "b7446b17",
   "metadata": {},
   "outputs": [],
   "source": [
    "path = \"../../datasets/dog\"\n",
    "file_info = \"DogInfo.csv\"\n",
    "file_move = \"DogMoveData.csv\""
   ]
  },
  {
   "cell_type": "code",
   "execution_count": 7,
   "id": "0fe15207",
   "metadata": {},
   "outputs": [],
   "source": [
    "chunksize = 1_000_000\n",
    "\n",
    "for i, chunk in enumerate(pd.read_csv(f\"{path}/{file_move}\", chunksize=chunksize)):\n",
    "    chunk = chunk.drop(columns=[\"TestNum\", \"t_sec\", \"Task\", \"Behavior_2\", \"Behavior_3\", \"PointEvent\"])\n",
    "    chunk = chunk[chunk[\"Behavior_1\"] != \"<undefined>\"]\n",
    "    chunk = chunk[chunk[\"Behavior_1\"] != \"Synchronization\"]\n",
    "    chunk = chunk[chunk[\"Behavior_1\"] != \"Extra_Synchronization\"]\n",
    "    chunk = chunk.rename(columns={\"Behavior_1\": \"Behavior\"})\n",
    "\n",
    "    chunk.to_csv(f\"{path}/clean_dog_move{i}.csv\", index=False)"
   ]
  }
 ],
 "metadata": {
  "kernelspec": {
   "display_name": ".venv",
   "language": "python",
   "name": "python3"
  },
  "language_info": {
   "codemirror_mode": {
    "name": "ipython",
    "version": 3
   },
   "file_extension": ".py",
   "mimetype": "text/x-python",
   "name": "python",
   "nbconvert_exporter": "python",
   "pygments_lexer": "ipython3",
   "version": "3.12.7"
  }
 },
 "nbformat": 4,
 "nbformat_minor": 5
}
