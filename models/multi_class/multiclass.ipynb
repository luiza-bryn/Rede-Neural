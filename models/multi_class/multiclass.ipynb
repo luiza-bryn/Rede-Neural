{
 "cells": [
  {
   "cell_type": "code",
   "execution_count": 2,
   "id": "85560f98",
   "metadata": {},
   "outputs": [],
   "source": [
    "import sys\n",
    "import os\n",
    "sys.path.append(os.path.abspath(os.path.join(os.getcwd(), '..', '..')))"
   ]
  },
  {
   "cell_type": "code",
   "execution_count": 3,
   "id": "16143e12",
   "metadata": {},
   "outputs": [],
   "source": [
    "import pandas as pd\n",
    "import seaborn as sns\n",
    "import matplotlib.pyplot as plt\n",
    "import glob\n",
    "\n",
    "from neural_network_lib.neural_network import NeuralNetwork\n",
    "\n",
    "from sklearn.preprocessing import StandardScaler, LabelEncoder\n",
    "from sklearn.model_selection import train_test_split\n",
    "from sklearn.neural_network import MLPClassifier\n",
    "from sklearn.metrics import classification_report, confusion_matrix, accuracy_score, ConfusionMatrixDisplay, RocCurveDisplay"
   ]
  },
  {
   "cell_type": "code",
   "execution_count": 4,
   "id": "7566da0c",
   "metadata": {},
   "outputs": [],
   "source": [
    "path = \"../../datasets/dog\"\n",
    "files_move = sorted(glob.glob(path + \"/clean_dog_move*.csv\"))\n",
    "file_info = \"DogInfo.csv\""
   ]
  },
  {
   "cell_type": "markdown",
   "id": "be3fa83f",
   "metadata": {},
   "source": [
    "##### Carregando o dataset **DogMoveData**  limpo e converte os tipos das colunas para economizar memória"
   ]
  },
  {
   "cell_type": "code",
   "execution_count": 5,
   "id": "896aec00",
   "metadata": {},
   "outputs": [
    {
     "name": "stdout",
     "output_type": "stream",
     "text": [
      "<class 'pandas.core.frame.DataFrame'>\n",
      "RangeIndex: 6556827 entries, 0 to 6556826\n",
      "Data columns (total 14 columns):\n",
      " #   Column    Dtype  \n",
      "---  ------    -----  \n",
      " 0   DogID     int32  \n",
      " 1   ABack_x   float32\n",
      " 2   ABack_y   float32\n",
      " 3   ABack_z   float32\n",
      " 4   ANeck_x   float32\n",
      " 5   ANeck_y   float32\n",
      " 6   ANeck_z   float32\n",
      " 7   GBack_x   float32\n",
      " 8   GBack_y   float32\n",
      " 9   GBack_z   float32\n",
      " 10  GNeck_x   float32\n",
      " 11  GNeck_y   float32\n",
      " 12  GNeck_z   float32\n",
      " 13  Behavior  object \n",
      "dtypes: float32(12), int32(1), object(1)\n",
      "memory usage: 375.2+ MB\n"
     ]
    }
   ],
   "source": [
    "df_move = pd.concat((pd.read_csv(file_move) for file_move in files_move), ignore_index=True)\n",
    "df_move = df_move.astype({col: 'float32' if df_move[col].dtype == 'float64' else \n",
    "                       'int32' if df_move[col].dtype == 'int64' else \n",
    "                        df_move[col].dtype for col in df_move.columns})\n",
    "\n",
    "df_move.info()"
   ]
  },
  {
   "cell_type": "markdown",
   "id": "51aa38f5",
   "metadata": {},
   "source": [
    "##### Carregando o dataset **DogInfo** e converte os tipos das colunas para economizar memória"
   ]
  },
  {
   "cell_type": "code",
   "execution_count": 6,
   "id": "0d8f52c2",
   "metadata": {},
   "outputs": [
    {
     "name": "stdout",
     "output_type": "stream",
     "text": [
      "<class 'pandas.core.frame.DataFrame'>\n",
      "RangeIndex: 45 entries, 0 to 44\n",
      "Data columns (total 3 columns):\n",
      " #   Column  Non-Null Count  Dtype\n",
      "---  ------  --------------  -----\n",
      " 0   DogID   45 non-null     int32\n",
      " 1   Weight  45 non-null     int32\n",
      " 2   Gender  45 non-null     int32\n",
      "dtypes: int32(3)\n",
      "memory usage: 672.0 bytes\n"
     ]
    }
   ],
   "source": [
    "df_info = pd.read_csv(f\"{path}/{file_info}\")\n",
    "df_info = df_info.drop(columns=['Breed', 'Age months', 'NeuteringStatus'])\n",
    "df_info = df_info.astype({col: 'int32' if df_info[col].dtype == 'int64' else\n",
    "                        df_info[col].dtype for col in df_info.columns})\n",
    "\n",
    "df_info.info()"
   ]
  },
  {
   "cell_type": "code",
   "execution_count": 7,
   "id": "53443008",
   "metadata": {},
   "outputs": [
    {
     "name": "stdout",
     "output_type": "stream",
     "text": [
      "<class 'pandas.core.frame.DataFrame'>\n",
      "RangeIndex: 6556827 entries, 0 to 6556826\n",
      "Data columns (total 16 columns):\n",
      " #   Column    Dtype  \n",
      "---  ------    -----  \n",
      " 0   DogID     int32  \n",
      " 1   Weight    int32  \n",
      " 2   Gender    int32  \n",
      " 3   ABack_x   float32\n",
      " 4   ABack_y   float32\n",
      " 5   ABack_z   float32\n",
      " 6   ANeck_x   float32\n",
      " 7   ANeck_y   float32\n",
      " 8   ANeck_z   float32\n",
      " 9   GBack_x   float32\n",
      " 10  GBack_y   float32\n",
      " 11  GBack_z   float32\n",
      " 12  GNeck_x   float32\n",
      " 13  GNeck_y   float32\n",
      " 14  GNeck_z   float32\n",
      " 15  Behavior  object \n",
      "dtypes: float32(12), int32(3), object(1)\n",
      "memory usage: 425.2+ MB\n"
     ]
    }
   ],
   "source": [
    "df_merged = df_info.merge(df_move, on='DogID', how='inner')\n",
    "df_merged.info()"
   ]
  },
  {
   "cell_type": "markdown",
   "id": "6e778b16",
   "metadata": {},
   "source": [
    "##### Removendo classes que possuem pouca frequência"
   ]
  },
  {
   "cell_type": "code",
   "execution_count": 8,
   "id": "c7b9de43",
   "metadata": {},
   "outputs": [
    {
     "name": "stdout",
     "output_type": "stream",
     "text": [
      "<class 'pandas.core.frame.DataFrame'>\n",
      "RangeIndex: 8000 entries, 0 to 7999\n",
      "Data columns (total 16 columns):\n",
      " #   Column    Non-Null Count  Dtype  \n",
      "---  ------    --------------  -----  \n",
      " 0   DogID     8000 non-null   int32  \n",
      " 1   Weight    8000 non-null   int32  \n",
      " 2   Gender    8000 non-null   int32  \n",
      " 3   ABack_x   8000 non-null   float32\n",
      " 4   ABack_y   8000 non-null   float32\n",
      " 5   ABack_z   8000 non-null   float32\n",
      " 6   ANeck_x   8000 non-null   float32\n",
      " 7   ANeck_y   8000 non-null   float32\n",
      " 8   ANeck_z   8000 non-null   float32\n",
      " 9   GBack_x   8000 non-null   float32\n",
      " 10  GBack_y   8000 non-null   float32\n",
      " 11  GBack_z   8000 non-null   float32\n",
      " 12  GNeck_x   8000 non-null   float32\n",
      " 13  GNeck_y   8000 non-null   float32\n",
      " 14  GNeck_z   8000 non-null   float32\n",
      " 15  Behavior  8000 non-null   object \n",
      "dtypes: float32(12), int32(3), object(1)\n",
      "memory usage: 531.4+ KB\n"
     ]
    }
   ],
   "source": [
    "counts = df_merged['Behavior'].value_counts()\n",
    "\n",
    "frequent_behaviors = counts[counts > 400_000].index\n",
    "\n",
    "df_filtered = df_merged[df_merged['Behavior'].isin(frequent_behaviors)].reset_index(drop=True)\n",
    "\n",
    "df_balanced = (\n",
    "    df_filtered.groupby('Behavior', group_keys=False)\n",
    "    .sample(n=1000, random_state=42, replace=False)\n",
    "    .reset_index(drop=True)\n",
    ")\n",
    "df_balanced.info()"
   ]
  },
  {
   "cell_type": "markdown",
   "id": "caf1d89a",
   "metadata": {},
   "source": [
    "##### Encoding da variável alvo"
   ]
  },
  {
   "cell_type": "code",
   "execution_count": 9,
   "id": "36fc76a2",
   "metadata": {},
   "outputs": [],
   "source": [
    "le = LabelEncoder()\n",
    "df_balanced['Behavior'] = le.fit_transform(df_balanced['Behavior'])"
   ]
  },
  {
   "cell_type": "markdown",
   "id": "b4ba85da",
   "metadata": {},
   "source": [
    "##### Mapeamento dos rótulos originais de `Behavior` para seus valores codificados"
   ]
  },
  {
   "cell_type": "code",
   "execution_count": 10,
   "id": "78af4a23",
   "metadata": {},
   "outputs": [
    {
     "data": {
      "text/plain": [
       "{'Lying chest': np.int64(0),\n",
       " 'Panting': np.int64(1),\n",
       " 'Playing': np.int64(2),\n",
       " 'Sitting': np.int64(3),\n",
       " 'Sniffing': np.int64(4),\n",
       " 'Standing': np.int64(5),\n",
       " 'Trotting': np.int64(6),\n",
       " 'Walking': np.int64(7)}"
      ]
     },
     "execution_count": 10,
     "metadata": {},
     "output_type": "execute_result"
    }
   ],
   "source": [
    "dict(zip(le.classes_, le.transform(le.classes_)))"
   ]
  },
  {
   "cell_type": "markdown",
   "id": "46878a04",
   "metadata": {},
   "source": [
    "##### Separando entre ``features`` e ``target``"
   ]
  },
  {
   "cell_type": "code",
   "execution_count": 11,
   "id": "d4275f0f",
   "metadata": {},
   "outputs": [],
   "source": [
    "X = df_balanced.drop(columns=['DogID', 'Behavior'])\n",
    "y = df_balanced['Behavior']"
   ]
  },
  {
   "cell_type": "code",
   "execution_count": 13,
   "id": "c9272930",
   "metadata": {},
   "outputs": [],
   "source": [
    "X_scaled = StandardScaler().fit_transform(X)"
   ]
  },
  {
   "cell_type": "code",
   "execution_count": 14,
   "id": "e636654d",
   "metadata": {},
   "outputs": [],
   "source": [
    "X_train, X_test, y_train, y_test = train_test_split(X_scaled, y, test_size=0.2, random_state=42)"
   ]
  },
  {
   "cell_type": "code",
   "execution_count": 15,
   "id": "9fc30158",
   "metadata": {},
   "outputs": [
    {
     "name": "stdout",
     "output_type": "stream",
     "text": [
      "0.05\n"
     ]
    }
   ],
   "source": [
    "nn = NeuralNetwork(hidden_layers=(64, 32, 16, 8), \n",
    "                   hidden_activation=['relu', 'relu', 'relu', 'relu'],\n",
    "                   loss='cce',\n",
    "                   model_type='multiclass',\n",
    "                   learning_rate=0.05,\n",
    "                   max_iter=100000)\n"
   ]
  },
  {
   "cell_type": "code",
   "execution_count": 50,
   "id": "e4de8062",
   "metadata": {},
   "outputs": [
    {
     "name": "stdout",
     "output_type": "stream",
     "text": [
      "['relu', 'relu', 'relu', 'relu', 'softmax']\n",
      "Epoch 0, Loss: 2.8282889212297233\n",
      "Epoch 1000, Loss: 0.7655245750345102\n",
      "Epoch 2000, Loss: 0.5976204235714782\n",
      "Epoch 3000, Loss: 0.49627537871428745\n",
      "Epoch 4000, Loss: 0.42671685124756126\n",
      "Epoch 5000, Loss: 0.40543679636714614\n",
      "Epoch 6000, Loss: 0.3861128434446738\n",
      "Epoch 7000, Loss: 0.32067615929671006\n",
      "Epoch 8000, Loss: 0.270468140930422\n",
      "Epoch 9000, Loss: 0.2215150886326514\n",
      "Epoch 10000, Loss: 0.24796071495857036\n",
      "Epoch 11000, Loss: 0.5672182943459578\n",
      "Epoch 12000, Loss: 0.17270724308095062\n",
      "Epoch 13000, Loss: 0.15745347220928826\n",
      "Epoch 14000, Loss: 0.4431067966035694\n",
      "Epoch 15000, Loss: 0.14150717468699453\n",
      "Epoch 16000, Loss: 0.13714822395140636\n",
      "Epoch 17000, Loss: 0.33682584251779646\n",
      "Epoch 18000, Loss: 0.10424915945723236\n",
      "Epoch 19000, Loss: 0.10055760192920815\n",
      "Epoch 20000, Loss: 0.09477037403067051\n",
      "Epoch 21000, Loss: 0.09866056397056905\n",
      "Epoch 22000, Loss: 0.08023550664838716\n",
      "Epoch 23000, Loss: 0.07052161673034306\n",
      "Epoch 24000, Loss: 0.06919769762602533\n",
      "Epoch 25000, Loss: 0.07038236137153266\n",
      "Epoch 26000, Loss: 0.08423579339363618\n",
      "Epoch 27000, Loss: 0.060389207181307976\n",
      "Epoch 28000, Loss: 0.0861837702195676\n",
      "Epoch 29000, Loss: 0.25851474338806524\n",
      "Epoch 30000, Loss: 0.0483109053439052\n",
      "Epoch 31000, Loss: 0.04604538065283366\n",
      "Epoch 32000, Loss: 0.043276605760735186\n",
      "Epoch 33000, Loss: 0.04230766403416873\n",
      "Epoch 34000, Loss: 0.04072681379276784\n",
      "Epoch 35000, Loss: 0.04152241956429642\n",
      "Epoch 36000, Loss: 0.03645839211099092\n",
      "Epoch 37000, Loss: 1.6226496438671663\n",
      "Epoch 38000, Loss: 0.034207972837927085\n",
      "Epoch 39000, Loss: 0.03666318099876105\n",
      "Epoch 40000, Loss: 0.03237644954987198\n",
      "Epoch 41000, Loss: 0.03298042391842936\n",
      "Epoch 42000, Loss: 0.03590272151533043\n",
      "Epoch 43000, Loss: 0.02800709428690083\n",
      "Epoch 44000, Loss: 0.027623421967774547\n",
      "Epoch 45000, Loss: 0.0254509944773614\n",
      "Epoch 46000, Loss: 0.03317458694859573\n",
      "Epoch 47000, Loss: 0.029059005079154696\n",
      "Epoch 48000, Loss: 0.02689589882683972\n",
      "Epoch 49000, Loss: 0.9429387475529513\n",
      "Epoch 50000, Loss: 0.024606889617040974\n",
      "Epoch 51000, Loss: 0.02072789694495446\n",
      "Epoch 52000, Loss: 0.01856051954508198\n",
      "Epoch 53000, Loss: 0.018318839471224126\n",
      "Epoch 54000, Loss: 0.01770759313174956\n",
      "Epoch 55000, Loss: 0.019851604895058376\n",
      "Epoch 56000, Loss: 0.016169426028575403\n",
      "Epoch 57000, Loss: 0.016342829328125627\n",
      "Epoch 58000, Loss: 0.014463461316257375\n",
      "Epoch 59000, Loss: 0.013589492139266779\n",
      "Epoch 60000, Loss: 0.014127353439043824\n",
      "Epoch 61000, Loss: 0.01251944218557532\n",
      "Epoch 62000, Loss: 0.011833119127047651\n",
      "Epoch 63000, Loss: 0.010832506654865863\n",
      "Epoch 64000, Loss: 0.010524369482813904\n",
      "Epoch 65000, Loss: 0.012031590899559708\n",
      "Epoch 66000, Loss: 0.01067129616650755\n",
      "Epoch 67000, Loss: 0.009870023420726402\n",
      "Epoch 68000, Loss: 0.009310333291328764\n",
      "Epoch 69000, Loss: 0.008812736348138317\n",
      "Epoch 70000, Loss: 0.008256016357237671\n",
      "Epoch 71000, Loss: 0.0078705694069005\n",
      "Epoch 72000, Loss: 0.015934975414844347\n",
      "Epoch 73000, Loss: 0.011010280077341816\n",
      "Epoch 74000, Loss: 0.009567079199391596\n",
      "Epoch 75000, Loss: 0.008705039333756652\n",
      "Epoch 76000, Loss: 0.008071817068345923\n",
      "Epoch 77000, Loss: 0.007552948643045826\n",
      "Epoch 78000, Loss: 0.00713960678064361\n",
      "Epoch 79000, Loss: 0.006778683851231262\n",
      "Epoch 80000, Loss: 0.006452764481001488\n",
      "Epoch 81000, Loss: 0.006167192501595273\n",
      "Epoch 82000, Loss: 0.005913681710527648\n",
      "Epoch 83000, Loss: 0.00565781063231368\n",
      "Epoch 84000, Loss: 0.005443113309233066\n",
      "Epoch 85000, Loss: 0.0052493461169438186\n",
      "Epoch 86000, Loss: 0.005073289598802172\n",
      "Epoch 87000, Loss: 0.0049006812015439894\n",
      "Epoch 88000, Loss: 0.004752262398158293\n",
      "Epoch 89000, Loss: 0.004601642926772942\n",
      "Epoch 90000, Loss: 0.0044686304484490135\n",
      "Epoch 91000, Loss: 0.004338211796370701\n",
      "Epoch 92000, Loss: 0.004230216618543194\n",
      "Epoch 93000, Loss: 0.004112917342568834\n",
      "Epoch 94000, Loss: 0.004009641855226748\n",
      "Epoch 95000, Loss: 0.003910838107990328\n",
      "Epoch 96000, Loss: 0.0038173626803017858\n",
      "Epoch 97000, Loss: 0.0037455505735669793\n",
      "Epoch 98000, Loss: 0.003639444603472298\n",
      "Epoch 99000, Loss: 0.00355765799599056\n"
     ]
    }
   ],
   "source": [
    "nn.fit(X_train, y_train)"
   ]
  },
  {
   "cell_type": "code",
   "execution_count": null,
   "id": "c7ac0909",
   "metadata": {},
   "outputs": [],
   "source": [
    "nn_pred = nn.predict(X_test)"
   ]
  },
  {
   "cell_type": "code",
   "execution_count": 52,
   "id": "9e8903d1",
   "metadata": {},
   "outputs": [
    {
     "data": {
      "image/png": "[encoded data removed]",
      "text/plain": [
       "<Figure size 640x480 with 2 Axes>"
      ]
     },
     "metadata": {},
     "output_type": "display_data"
    },
    {
     "name": "stdout",
     "output_type": "stream",
     "text": [
      "              precision    recall  f1-score   support\n",
      "\n",
      " Lying chest       0.76      0.79      0.78       203\n",
      "     Panting       0.70      0.66      0.68       222\n",
      "     Playing       0.59      0.62      0.60       196\n",
      "     Sitting       0.76      0.81      0.78       183\n",
      "    Sniffing       0.86      0.86      0.86       200\n",
      "    Standing       0.70      0.76      0.73       197\n",
      "    Trotting       0.71      0.70      0.71       207\n",
      "     Walking       0.66      0.55      0.60       192\n",
      "\n",
      "    accuracy                           0.72      1600\n",
      "   macro avg       0.72      0.72      0.72      1600\n",
      "weighted avg       0.72      0.72      0.72      1600\n",
      "\n",
      "Acurácia: 0.71875\n"
     ]
    }
   ],
   "source": [
    "ConfusionMatrixDisplay.from_predictions(y_test, nn_pred, display_labels=le.classes_, cmap='Blues', xticks_rotation=45)\n",
    "plt.title(\"Matriz de Confusão - NeuralNetwork\")\n",
    "plt.show()\n",
    "\n",
    "print(classification_report(y_test, nn_pred, target_names=le.classes_))\n",
    "print(\"Acurácia:\", accuracy_score(y_test, nn_pred))\n"
   ]
  }
 ],
 "metadata": {
  "kernelspec": {
   "display_name": ".venv",
   "language": "python",
   "name": "python3"
  },
  "language_info": {
   "codemirror_mode": {
    "name": "ipython",
    "version": 3
   },
   "file_extension": ".py",
   "mimetype": "text/x-python",
   "name": "python",
   "nbconvert_exporter": "python",
   "pygments_lexer": "ipython3",
   "version": "3.12.7"
  }
 },
 "nbformat": 4,
 "nbformat_minor": 5
}
