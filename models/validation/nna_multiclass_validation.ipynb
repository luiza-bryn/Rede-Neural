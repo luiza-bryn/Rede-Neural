{
 "cells": [
  {
   "cell_type": "code",
   "execution_count": 8,
   "id": "ee2dbbc0",
   "metadata": {},
   "outputs": [],
   "source": [
    "import sys\n",
    "import os\n",
    "sys.path.append(os.path.abspath(os.path.join(os.getcwd(), '..', '..')))"
   ]
  },
  {
   "cell_type": "code",
   "execution_count": 9,
   "id": "2a6ff461",
   "metadata": {},
   "outputs": [],
   "source": [
    "import pandas as pd\n",
    "from sklearn.model_selection import train_test_split\n",
    "from sklearn.preprocessing import MinMaxScaler\n",
    "from sklearn.preprocessing import LabelEncoder\n",
    "from sklearn.metrics import accuracy_score, confusion_matrix, classification_report\n",
    "\n",
    "from neural_network_lib.neural_network import NeuralNetwork\n",
    "\n",
    "from sklearn.preprocessing import StandardScaler\n",
    "from sklearn.neural_network import MLPClassifier"
   ]
  },
  {
   "cell_type": "code",
   "execution_count": 10,
   "id": "56080bd7",
   "metadata": {},
   "outputs": [],
   "source": [
    "df = pd.read_csv('../../datasets/validation/iris.csv')"
   ]
  },
  {
   "cell_type": "code",
   "execution_count": 11,
   "id": "c932b846",
   "metadata": {},
   "outputs": [],
   "source": [
    "X = df.drop('label', axis=1).values\n",
    "y = df['label'].values"
   ]
  },
  {
   "cell_type": "code",
   "execution_count": 12,
   "id": "8245a08b",
   "metadata": {},
   "outputs": [],
   "source": [
    "scaler = StandardScaler()\n",
    "X_scaled = scaler.fit_transform(X)\n",
    "y = LabelEncoder().fit_transform(y)"
   ]
  },
  {
   "cell_type": "code",
   "execution_count": 13,
   "id": "b43143ac",
   "metadata": {},
   "outputs": [],
   "source": [
    "X_train, X_test, y_train, y_test = train_test_split(X_scaled, y, test_size=0.2, random_state=42)"
   ]
  },
  {
   "cell_type": "markdown",
   "id": "8341cb39",
   "metadata": {},
   "source": [
    "#### Nosso RNA"
   ]
  },
  {
   "cell_type": "code",
   "execution_count": 14,
   "id": "409efeda",
   "metadata": {},
   "outputs": [
    {
     "name": "stdout",
     "output_type": "stream",
     "text": [
      "0.01\n"
     ]
    }
   ],
   "source": [
    "nn = NeuralNetwork(hidden_layers=(16,12), hidden_activation=['relu', 'relu'],\n",
    "                   loss='cce',\n",
    "                   model_type='multiclass',\n",
    "                   learning_rate=0.01,\n",
    "                   max_iter=10000)"
   ]
  },
  {
   "cell_type": "code",
   "execution_count": 15,
   "id": "0d696d67",
   "metadata": {},
   "outputs": [
    {
     "data": {
      "text/plain": [
       "array([0, 0, 1, 0, 0, 2, 1, 0, 0, 0, 2, 1, 1, 0, 0, 1, 2, 2, 1, 2, 1, 2,\n",
       "       1, 0, 2, 1, 0, 0, 0, 1, 2, 0, 0, 0, 1, 0, 1, 2, 0, 1, 2, 0, 2, 2,\n",
       "       1, 1, 2, 1, 0, 1, 2, 0, 0, 1, 1, 0, 2, 0, 0, 1, 1, 2, 1, 2, 2, 1,\n",
       "       0, 0, 2, 2, 0, 0, 0, 1, 2, 0, 2, 2, 0, 1, 1, 2, 1, 2, 0, 2, 1, 2,\n",
       "       1, 1, 1, 0, 1, 1, 0, 1, 2, 2, 0, 1, 2, 2, 0, 2, 0, 1, 2, 2, 1, 2,\n",
       "       1, 1, 2, 2, 0, 1, 2, 0, 1, 2])"
      ]
     },
     "execution_count": 15,
     "metadata": {},
     "output_type": "execute_result"
    }
   ],
   "source": [
    "y_train"
   ]
  },
  {
   "cell_type": "code",
   "execution_count": 16,
   "id": "78cc1861",
   "metadata": {},
   "outputs": [
    {
     "name": "stdout",
     "output_type": "stream",
     "text": [
      "['relu', 'relu', 'softmax']\n"
     ]
    },
    {
     "ename": "ValueError",
     "evalue": "operands could not be broadcast together with shapes (120,) (120,3) ",
     "output_type": "error",
     "traceback": [
      "\u001b[31m---------------------------------------------------------------------------\u001b[39m",
      "\u001b[31mValueError\u001b[39m                                Traceback (most recent call last)",
      "\u001b[36mCell\u001b[39m\u001b[36m \u001b[39m\u001b[32mIn[16]\u001b[39m\u001b[32m, line 1\u001b[39m\n\u001b[32m----> \u001b[39m\u001b[32m1\u001b[39m \u001b[43mnn\u001b[49m\u001b[43m.\u001b[49m\u001b[43mfit\u001b[49m\u001b[43m(\u001b[49m\u001b[43mX_train\u001b[49m\u001b[43m,\u001b[49m\u001b[43m \u001b[49m\u001b[43my_train\u001b[49m\u001b[43m)\u001b[49m\n",
      "\u001b[36mFile \u001b[39m\u001b[32mc:\\Users\\rishi\\OneDrive\\Área de Trabalho\\ml\\Rede-Neural\\neural_network_lib\\neural_network.py:104\u001b[39m, in \u001b[36mNeuralNetwork.fit\u001b[39m\u001b[34m(self, X, y)\u001b[39m\n\u001b[32m    102\u001b[39m \u001b[38;5;66;03m# Condicao de parada\u001b[39;00m\n\u001b[32m    103\u001b[39m \u001b[38;5;28;01mif\u001b[39;00m \u001b[38;5;28mself\u001b[39m.tolerance \u001b[38;5;129;01mand\u001b[39;00m epoch > \u001b[32m1\u001b[39m \u001b[38;5;129;01mand\u001b[39;00m loss_value < \u001b[38;5;28mself\u001b[39m.tolerance:\n\u001b[32m--> \u001b[39m\u001b[32m104\u001b[39m     \u001b[38;5;28;01mbreak\u001b[39;00m\n\u001b[32m    106\u001b[39m \u001b[38;5;66;03m# Backward pass\u001b[39;00m\n\u001b[32m    107\u001b[39m \u001b[38;5;28mself\u001b[39m.weights, \u001b[38;5;28mself\u001b[39m.biases = backward_phase(\n\u001b[32m    108\u001b[39m     y, \u001b[38;5;28mself\u001b[39m.weights, \u001b[38;5;28mself\u001b[39m.biases, \n\u001b[32m    109\u001b[39m     linear_combinations,\n\u001b[32m   (...)\u001b[39m\u001b[32m    114\u001b[39m     learning_rate=\u001b[38;5;28mself\u001b[39m.learning_rate\n\u001b[32m    115\u001b[39m )\n",
      "\u001b[36mFile \u001b[39m\u001b[32mc:\\Users\\rishi\\OneDrive\\Área de Trabalho\\ml\\Rede-Neural\\neural_network_lib\\loss.py:33\u001b[39m, in \u001b[36mcategorical_cross_entropy\u001b[39m\u001b[34m(y_true, y_pred)\u001b[39m\n\u001b[32m     31\u001b[39m epsilon = \u001b[32m1e-15\u001b[39m\n\u001b[32m     32\u001b[39m y_pred = np.clip(y_pred, epsilon, \u001b[32m1\u001b[39m - epsilon)\n\u001b[32m---> \u001b[39m\u001b[32m33\u001b[39m cce = -np.mean(np.sum(\u001b[43my_true\u001b[49m\u001b[43m \u001b[49m\u001b[43m*\u001b[49m\u001b[43m \u001b[49m\u001b[43mnp\u001b[49m\u001b[43m.\u001b[49m\u001b[43mlog\u001b[49m\u001b[43m(\u001b[49m\u001b[43my_pred\u001b[49m\u001b[43m)\u001b[49m, axis=\u001b[32m1\u001b[39m))\n\u001b[32m     34\u001b[39m \u001b[38;5;28;01mreturn\u001b[39;00m cce\n",
      "\u001b[31mValueError\u001b[39m: operands could not be broadcast together with shapes (120,) (120,3) "
     ]
    }
   ],
   "source": [
    "nn.fit(X_train, y_train)"
   ]
  },
  {
   "cell_type": "code",
   "execution_count": null,
   "id": "249fe421",
   "metadata": {},
   "outputs": [],
   "source": [
    "y_pred_nn = nn.predict(X_test)"
   ]
  },
  {
   "cell_type": "markdown",
   "id": "a5c762a8",
   "metadata": {},
   "source": [
    "#### RNA do scikit-learn"
   ]
  },
  {
   "cell_type": "code",
   "execution_count": null,
   "id": "ddc5fcaf",
   "metadata": {},
   "outputs": [],
   "source": [
    "mlp = MLPClassifier(hidden_layer_sizes=(16, 12), activation='relu',\n",
    "                    learning_rate=0.01,\n",
    "                    max_iter=10000)"
   ]
  },
  {
   "cell_type": "code",
   "execution_count": null,
   "id": "1525dad3",
   "metadata": {},
   "outputs": [],
   "source": [
    "mlp.fit(X_train, y_train.ravel())"
   ]
  },
  {
   "cell_type": "code",
   "execution_count": null,
   "id": "8758f89e",
   "metadata": {},
   "outputs": [],
   "source": [
    "y_pred_mlp = mlp.predict(X_test)"
   ]
  },
  {
   "cell_type": "markdown",
   "id": "54078ad6",
   "metadata": {},
   "source": [
    "#### Avaliação"
   ]
  },
  {
   "cell_type": "code",
   "execution_count": null,
   "id": "cf2be1e1",
   "metadata": {},
   "outputs": [],
   "source": [
    "# Avaliação do modelo NeuralNetwork customizado\n",
    "print(\"Avaliação do modelo NeuralNetwork customizado:\")\n",
    "print(\"Acurácia:\", accuracy_score(y_test, y_pred_nn))\n",
    "print(\"Matriz de confusão:\\n\", confusion_matrix(y_test, y_pred_nn))\n",
    "print(\"Relatório de classificação:\\n\", classification_report(y_test, y_pred_nn))\n",
    "\n",
    "# Avaliação do modelo MLPClassifier do scikit-learn\n",
    "print(\"Avaliação do modelo MLPClassifier do scikit-learn:\")\n",
    "print(\"Acurácia:\", accuracy_score(y_test, y_pred_mlp))\n",
    "print(\"Matriz de confusão:\\n\", confusion_matrix(y_test, y_pred_mlp))\n",
    "print(\"Relatório de classificação:\\n\", classification_report(y_test, y_pred_mlp))"
   ]
  }
 ],
 "metadata": {
  "kernelspec": {
   "display_name": ".venv",
   "language": "python",
   "name": "python3"
  },
  "language_info": {
   "codemirror_mode": {
    "name": "ipython",
    "version": 3
   },
   "file_extension": ".py",
   "mimetype": "text/x-python",
   "name": "python",
   "nbconvert_exporter": "python",
   "pygments_lexer": "ipython3",
   "version": "3.12.7"
  }
 },
 "nbformat": 4,
 "nbformat_minor": 5
}
